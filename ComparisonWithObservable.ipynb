
        {
            "cells": [
          {
           "cell_type": "code",
           "metadata": {},
            "execution_count": null, "outputs": [], 
           "source": ["#r \"nuget: FSharp.Control.AsyncSeq,{{package-version}}\"\n"]
          }
,
          {
           "cell_type": "markdown",
           "metadata": {},
           
           "source": ["[![Binder](https://mybinder.org/badge_logo.svg)](https://mybinder.org/v2/gh/fsprojects/FSharp.Control.AsyncSeq/gh-pages?filepath=AsyncSeq.ipynb)\n",
"\n",
"# Comparison with IObservable\n",
"\n",
"Both `IObservable\u003c\u0027T\u003e` and `AsyncSeq\u003c\u0027T\u003e` represent collections of items and both provide similar operations\n",
"for transformation and composition. The central difference between the two is that the former uses a *synchronous push*\n",
"to a subscriber and the latter uses an *asynchronous pull* by a consumer. \n",
"Consumers of an `IObservable\u003c\u0027T\u003e` *subscribe* to receive notifications about\n",
"new items or the end of the sequence. By contrast, consumers of an `AsyncSeq\u003c\u0027T\u003e` *asynchronously retrieve* subsequent items on their own\n",
"terms. Some domains are more naturally modeled with one or the other, however it is less clear which is a more\n",
"suitable tool for a specific task. In many cases, a combination of the two provides the optimal solution and \n",
"restricting yourself to one, while simplifying the programming model, can lead one to view all problems as a nail.\n",
"\n",
"A more specific difference between the two is that `IObservable\u003c\u0027T\u003e` subscribers have the basic type `\u0027T -\u003e unit` \n",
"and are therefore inherently synchronous and imperative. The observer can certainly make a blocking call, but this \n",
"can defeat the purpose of the observable sequence all together. Alternatively, the observer can spawn an operation, but\n",
"this can break composition because one can no longer rely on the observer returning to determine that it has \n",
"completed. With the observable model however, we can model blocking operations through composition on sequences rather\n",
"than observers.\n",
"\n",
"To illustrate, let\u0027s try to implement the above Tweet retrieval, filtering and storage workflow using observable sequences.\n",
"Suppose we already have an observable sequence representing tweets `IObservable\u003cTweet\u003e` and we simply wish \n",
"to filter it and store the resulting tweets. The function `Observable.filter` allows one to filter observable\n",
"sequences based on a predicate, however in this case it doesn\u0027t quite cut it because the predicate passed to it must\n",
"be synchronous `\u0027T -\u003e bool`:\n",
"\n"]
          }
,
          {
           "cell_type": "code",
           "metadata": {},
            "execution_count": null, "outputs": [], 
           "source": ["open System\n",
"\n",
"let tweetsObs : IObservable\u003cTweet\u003e =\n",
"  failwith \"TODO: create observable\"\n",
"\n",
"let filteredTweetsObs =\n",
"  tweetsObs\n",
"  |\u003e Observable.filter (filterTweet \u003e\u003e Async.RunSynchronously) // blocking IO-call!\n"]
          }
,
          {
           "cell_type": "markdown",
           "metadata": {},
           
           "source": ["To remedy the blocking IO-call we can better adapt the filtering function to the `IObservable\u003c\u0027T\u003e` model. A value\n",
"of type `Async\u003c\u0027T\u003e` can be modeled as an `IObservable\u003c\u0027T\u003e` with one element. Suppose that we have \n",
"`Tweet -\u003e IObservable\u003cbool\u003e`. We can define a few helper operators on observables to allow filtering using\n",
"an asynchronous predicate as follows:\n",
"\n"]
          }
,
          {
           "cell_type": "code",
           "metadata": {},
            "execution_count": null, "outputs": [], 
           "source": ["module Observable =\n",
"  \n",
"  /// a |\u003e Async.StartAsTask |\u003e (fun t -\u003e t.ToObservable())\n",
"  let ofAsync (a:Async\u003c\u0027a\u003e) : IObservable\u003c\u0027a\u003e =\n",
"    failwith \"TODO\"\n",
"\n",
"  /// Observable.SelectMany\n",
"  let bind (f:\u0027a -\u003e IObservable\u003c\u0027b\u003e) (o:IObservable\u003c\u0027a\u003e) : IObservable\u003c\u0027b\u003e =\n",
"    failwith \"TODO\"\n",
"\n",
"  /// Filter an observable sequence using a predicate producing a observable\n",
"  /// which emits a single boolean value.\n",
"  let filterObs (f:\u0027a -\u003e IObservable\u003cbool\u003e) : IObservable\u003c\u0027a\u003e -\u003e IObservable\u003c\u0027a\u003e =\n",
"    bind \u003c| fun a -\u003e \n",
"      f a\n",
"      |\u003e Observable.choose (function\n",
"        | true -\u003e Some a\n",
"        | false -\u003e None\n",
"      )\n",
"  \n",
"  /// Filter an observable sequence using a predicate which returns an async\n",
"  /// computation producing a boolean value.\n",
"  let filterAsync (f:\u0027a -\u003e Async\u003cbool\u003e) : IObservable\u003c\u0027a\u003e -\u003e IObservable\u003c\u0027a\u003e =\n",
"    filterObs (f \u003e\u003e ofAsync)\n",
"\n",
"  /// Maps over an observable sequence using an async-returning function.\n",
"  let mapAsync (f:\u0027a -\u003e Async\u003c\u0027b\u003e) : IObservable\u003c\u0027a\u003e -\u003e IObservable\u003c\u0027b\u003e =\n",
"    bind (f \u003e\u003e ofAsync)\n",
"\n",
"let filteredTweetsObs\u0027 : IObservable\u003cTweet\u003e =\n",
"  filteredTweetsObs\n",
"  |\u003e Observable.filterAsync filterTweet\n"]
          }
,
          {
           "cell_type": "markdown",
           "metadata": {},
           
           "source": ["With a little effort, we were able to adapt `IObservable\u003c\u0027a\u003e` to our needs. Next let\u0027s try implementing the storage of\n",
"filtered tweets. Again, we can adapt the function `storeTweet` defined above to the observable model and bind the\n",
"observable of filtered tweets to it:\n",
"\n"]
          }
,
          {
           "cell_type": "code",
           "metadata": {},
            "execution_count": null, "outputs": [], 
           "source": ["let storedTweetsObs : IObservable\u003cunit\u003e =\n",
"  filteredTweetsObs\u0027\n",
"  |\u003e Observable.mapAsync storeTweet\n"]
          }
,
          {
           "cell_type": "markdown",
           "metadata": {},
           
           "source": ["The observable sequence `storedTweetsObs` will produces a value each time a filtered tweet is stored. The entire\n",
"workflow can be expressed as follows:\n",
"\n"]
          }
,
          {
           "cell_type": "code",
           "metadata": {},
            "execution_count": null, "outputs": [], 
           "source": ["let storedTeetsObs\u0027 : IObservable\u003cunit\u003e =\n",
"  tweetsObs\n",
"  |\u003e Observable.filterAsync filterTweet\n",
"  |\u003e Observable.mapAsync storeTweet\n"]
          }
,
          {
           "cell_type": "markdown",
           "metadata": {},
           
           "source": ["Overall, both solutions are succinct and composable and deciding which one to use can ultimately be a matter of preference. \n",
"Some things to consider are the \"synchronous push\" vs. \"asynchronous pull\" semantics. On the one hand, tweets are pushed based - the consumer has no control \n",
"over their generation. On the other hand, the program at hand will process the tweets on its own terms regardless of how quickly \n",
"they are being generated. Moreover, the underlying Twitter API will likely utilize a request-reply protocol to retrieve batches of \n",
"tweets from persistent storage. As such, the distinction between \"synchronous push\" vs. \"asynchronous pull\" becomes less interesting. If the underlying source \n",
"is truly push-based, then one can buffer its output and consume it using an asynchronous sequence. If the underlying source is pull-based, \n",
"then one can turn it into an observable sequence by first pulling, then pushing. Note however that in a true real-time reactive system, \n",
"notifications must be pushed immediately without delay.\n",
"\n",
"Upon closer inspection, the consumption approaches between the two models aren\u0027t all too different. While `AsyncSeq` is based on an asynchronous-pull operation,\n",
"it is usually consumed using an operator such as `AsyncSeq.iterAsync` as shown above. This is a function of type \n",
"`(\u0027T -\u003e Async\u003cunit\u003e) -\u003e AsyncSeq\u003c\u0027T\u003e -\u003e Async\u003cunit\u003e` where the first argument is a function `\u0027T -\u003e Async\u003cunit\u003e` which performs \n",
"some work on an item of the sequence and is applied repeatedly to subsequent items. In a sense, `iterAsync` *pushes* values to this \n",
"function. The primary difference from observers of observable sequences is the return type `Async\u003cunit\u003e` rather than simply `unit`.\n",
"\n",
"## Related Articles\n",
"\n",
" * [Programming with F# asynchronous sequences](http://tomasp.net/blog/async-sequences.aspx/)\n",
"\n",
"\n"]
          }],
            "metadata": {
            "kernelspec": {"display_name": ".NET (F#)", "language": "F#", "name": ".net-fsharp"},
            "langauge_info": {
        "file_extension": ".fs",
        "mimetype": "text/x-fsharp",
        "name": "C#",
        "pygments_lexer": "fsharp",
        "version": "4.5"
        }
        },
            "nbformat": 4,
            "nbformat_minor": 1
        }
        

