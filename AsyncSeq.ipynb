
        {
            "cells": [
          {
           "cell_type": "code",
           "metadata": {},
            "execution_count": null, "outputs": [], 
           "source": ["#r \"nuget: FSharp.Control.AsyncSeq,{{package-version}}\"\n"]
          }
,
          {
           "cell_type": "markdown",
           "metadata": {},
           
           "source": ["[![Binder](https://mybinder.org/badge_logo.svg)](https://mybinder.org/v2/gh/fsprojects/FSharp.Control.AsyncSeq/gh-pages?filepath=AsyncSeq.ipynb)\n",
"\n",
"# F# Async: FSharp.Control.AsyncSeq\n",
"\n",
"\u003e NOTE: There is also the option to use [FSharp.Control.TaskSeq](https://github.com/fsprojects/FSharp.Control.TaskSeq) which has a very similar usage model.\n",
"\n",
"An AsyncSeq is a sequence in which individual elements are retrieved using an `Async` computation.\n",
"It is similar to `seq\u003c\u0027a\u003e` in that subsequent elements are pulled on-demand.\n",
"`AsyncSeq` also bears similarity to `IObservable\u003c\u0027a\u003e` with the former being based on an \"asynchronous pull\" and the\n",
"latter based on a \"synchronous push\". Analogs for most operations defined for `Seq`, `List` and `IObservable` are also defined for \n",
"`AsyncSeq`. The power of `AsyncSeq` lies in that many of these operations also have analogs based on `Async` \n",
"allowing composition of complex asynchronous workflows.\n",
"\n",
"The `AsyncSeq` type is located in the `FSharp.Control.AsyncSeq.dll` assembly which can be loaded in F# Interactive as follows:\n",
"\n"]
          }
,
          {
           "cell_type": "code",
           "metadata": {},
            "execution_count": null, "outputs": [], 
           "source": ["#r \"../../../bin/FSharp.Control.AsyncSeq.dll\"\n",
"open FSharp.Control\n"]
          }
,
          {
           "cell_type": "markdown",
           "metadata": {},
           
           "source": ["### Generating asynchronous sequences\n",
"\n",
"An `AsyncSeq\u003c\u0027T\u003e` can be generated using computation expression syntax much like `seq\u003c\u0027T\u003e`:\n",
"\n"]
          }
,
          {
           "cell_type": "code",
           "metadata": {},
            "execution_count": null, "outputs": [], 
           "source": ["let async12 = asyncSeq {\n",
"  yield 1\n",
"  yield 2\n",
"}\n"]
          }
,
          {
           "cell_type": "markdown",
           "metadata": {},
           
           "source": ["Another way to generate an asynchronous sequence is using the `Async.unfoldAsync` function. This\n",
"function accepts as an argument a function which can generate individual elements based on a state and \n",
"signal completion of the sequence.\n",
"\n",
"For example, suppose that you\u0027re writing a program which consumes the Twitter API and stores tweets\n",
"which satisfy some criteria into a database. There are several asynchronous request-reply interactions at play - \n",
"one to retrieve a batch of tweets from the Twitter API, another to determine whether a tweet satisfies some\n",
"criteria and finally an operation to write the desired tweet to a database. \n",
"\n",
"Given the type `Tweet` to represent an individual tweet, the operation to retrieve a batch of tweets can \n",
"be modeled with type `int -\u003e Async\u003c(Tweet[] * int) option\u003e` where the incoming `int` represents the \n",
"offset into the tweet stream. The asynchronous result is an `Option` which when `None` indicates the\n",
"end of the stream, and otherwise contains the batch of retrieved tweets as well as the next offset.\n",
"\n",
"The above function to retrieve a batch of tweets can be used to generate an asynchronous sequence \n",
"of tweet batches as follows:\n",
"\n"]
          }
,
          {
           "cell_type": "code",
           "metadata": {},
            "execution_count": null, "outputs": [], 
           "source": ["type Tweet = {\n",
"  user : string\n",
"  message : string\n",
"}\n",
"\n",
"let getTweetBatch (offset: int) : Async\u003c(Tweet[] * int) option\u003e = \n",
"  failwith \"TODO: call Twitter API\"\n",
"\n",
"let tweetBatches : AsyncSeq\u003cTweet[]\u003e = \n",
"  AsyncSeq.unfoldAsync getTweetBatch 0\n"]
          }
,
          {
           "cell_type": "markdown",
           "metadata": {},
           
           "source": ["The asynchronous sequence `tweetBatches` will when iterated, incrementally consume the entire tweet stream.\n",
"\n",
"Next, suppose that the tweet filtering function makes a call to a web service which determines\n",
"whether a particular tweet is of interest and should be stored in the database. This function can be modeled with\n",
"type `Tweet -\u003e Async\u003cbool\u003e`. We can flatten the `tweetBatches` sequence and then filter it as follows:\n",
"\n"]
          }
,
          {
           "cell_type": "code",
           "metadata": {},
            "execution_count": null, "outputs": [], 
           "source": ["let filterTweet (t: Tweet) : Async\u003cbool\u003e =\n",
"  failwith \"TODO: call web service\"\n",
"\n",
"let filteredTweets : AsyncSeq\u003cTweet\u003e = \n",
"  tweetBatches\n",
"  |\u003e AsyncSeq.concatSeq // flatten\n",
"  |\u003e AsyncSeq.filterAsync filterTweet // filter\n"]
          }
,
          {
           "cell_type": "markdown",
           "metadata": {},
           
           "source": ["When the resulting sequence `filteredTweets` is consumed, it will lazily consume the underlying\n",
"sequence `tweetBatches`, select individual tweets and filter them using the function `filterTweets`.\n",
"\n",
"Finally, the function which stores a tweet in the database can be modeled by type `Tweet -\u003e Async\u003cunit\u003e`.\n",
"We can store all filtered tweets as follows:\n",
"\n"]
          }
,
          {
           "cell_type": "code",
           "metadata": {},
            "execution_count": null, "outputs": [], 
           "source": ["let storeTweet (t: Tweet) : Async\u003cunit\u003e =\n",
"  failwith \"TODO: call database\"\n",
"\n",
"let storeFilteredTweets : Async\u003cunit\u003e =\n",
"  filteredTweets\n",
"  |\u003e AsyncSeq.iterAsync storeTweet\n"]
          }
,
          {
           "cell_type": "markdown",
           "metadata": {},
           
           "source": ["Note that the value `storeFilteredTweets` is an asynchronous computation of type `Async\u003cunit\u003e`. At this point,\n",
"it is a *representation* of the workflow which consists of reading batches of tweets, filtering them and storing them\n",
"in the database. When executed, the workflow will consume the entire tweet stream. The entire workflow can be\n",
"succinctly declared and executed as follows:\n",
"\n"]
          }
,
          {
           "cell_type": "code",
           "metadata": {},
            "execution_count": null, "outputs": [], 
           "source": ["AsyncSeq.unfoldAsync getTweetBatch 0\n",
"|\u003e AsyncSeq.concatSeq\n",
"|\u003e AsyncSeq.filterAsync filterTweet\n",
"|\u003e AsyncSeq.iterAsync storeTweet\n",
"|\u003e Async.RunSynchronously\n"]
          }
,
          {
           "cell_type": "markdown",
           "metadata": {},
           
           "source": ["The above snippet effectively orchestrates several asynchronous request-reply interactions into a cohesive unit\n",
"composed using familiar operations on sequences. Furthermore, it will be executed efficiently in a non-blocking manner.\n",
"\n",
"### Comparison with seq\u003c\u0027T\u003e\n",
"\n",
"The central difference between `seq\u003c\u0027T\u003e` and `AsyncSeq\u003c\u0027T\u003e` can be illustrated by introducing the notion of time.\n",
"Suppose that generating subsequent elements of a sequence requires an IO-bound operation. Invoking long \n",
"running IO-bound operations from within a `seq\u003c\u0027T\u003e` will *block* the thread which calls `MoveNext` on the \n",
"corresponding `IEnumerator`. An `AsyncSeq` on the other hand can use facilities provided by the F# `Async` type to make \n",
"more efficient use of system resources.\n",
"\n"]
          }
,
          {
           "cell_type": "code",
           "metadata": {},
            "execution_count": null, "outputs": [], 
           "source": ["let withTime = seq {\n",
"  Thread.Sleep(1000) // calling thread will block\n",
"  yield 1\n",
"  Thread.Sleep(1000) // calling thread will block\n",
"  yield 1\n",
"}\n",
"\n",
"let withTime\u0027 = asyncSeq {\n",
"  do! Async.Sleep 1000 // non-blocking sleep\n",
"  yield 1\n",
"  do! Async.Sleep 1000 // non-blocking sleep\n",
"  yield 2\n",
"}\n"]
          }
,
          {
           "cell_type": "markdown",
           "metadata": {},
           
           "source": ["When the asynchronous sequence `withTime\u0027` is iterated, the calls to `Async.Sleep` won\u0027t block threads. Instead,\n",
"the *continuation* of the sequence will be scheduled by `Async` while the calling thread will be free to perform other work. \n",
"Overall, a `seq\u003c\u0027a\u003e` can be viewed as a special case of an `AsyncSeq\u003c\u0027a\u003e` where subsequent elements are retrieved\n",
"in a blocking manner.\n",
"\n",
"### Performance Considerations\n",
"\n",
"While an asynchronous computation obviates the need to block an OS thread for the duration of an operation, it isn\u0027t always the case\n",
"that this will improve the overall performance of an application. Note however that an async computation does not *require* a\n",
"non-blocking operation, it simply allows for it. Also of note is that unlike calling `IEnumerable.MoveNext()`, consuming\n",
"an item from an asynchronous sequence requires several allocations. Usually this is greatly outweighed by the\n",
"benefits, it can make a difference in some scenarios.\n",
"\n",
"## Related Articles\n",
"\n",
" * [Programming with F# asynchronous sequences](http://tomasp.net/blog/async-sequences.aspx/)\n",
"\n",
"\n"]
          }],
            "metadata": {
            "kernelspec": {"display_name": ".NET (F#)", "language": "F#", "name": ".net-fsharp"},
            "langauge_info": {
        "file_extension": ".fs",
        "mimetype": "text/x-fsharp",
        "name": "C#",
        "pygments_lexer": "fsharp",
        "version": "4.5"
        }
        },
            "nbformat": 4,
            "nbformat_minor": 1
        }
        

