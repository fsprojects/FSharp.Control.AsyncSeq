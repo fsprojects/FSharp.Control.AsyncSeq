
        {
            "cells": [
          {
           "cell_type": "markdown",
           "metadata": {},
           
           "source": ["FSharp.Control.AsyncSeq\n",
"=============\n",
"\n",
"FSharp.Control.AsyncSeq is a collection of asynchronous programming utilities for F#.\n",
"\n",
"An AsyncSeq is a sequence in which individual elements are retrieved using an `Async` computation.\n",
"The power of `AsyncSeq` lies in that many of these operations also have analogs based on `Async` \n",
"allowing composition of complex asynchronous workflows, including compositional cancellation.\n",
"\n",
"An `AsyncSeq\u003c\u0027a\u003e` can be generated using computation expression syntax much like `seq\u003c\u0027a\u003e`:\n",
"\n",
"    let oneThenTwo = asyncSeq {\n",
"      yield 1\n",
"      do! Async.Sleep 1000 // non-blocking sleep\n",
"      yield 2\n",
"    }\n",
"\n",
"Learning\n",
"--------------------------\n",
"\n",
"[AsyncSeq](AsyncSeq.html) contains narrative and code samples explaining asynchronous sequences.\n",
"\n",
"[AsyncSeq Examples](AsyncSeqExamples.html) contains examples.\n",
"\n",
"[Terminology](terminology.html) a reference for some of the terminology around F# async.\n",
" \n",
"[Comparison with IObservable](ComparisonWithIObservable.html) contains discussion about the difference between async sequences and IObservables.\n",
"\n",
"[API Reference](reference/index.html) contains automatically generated documentation for all types, modules and functions in the library. \n",
"This includes additional brief samples on using most of the functions.\n",
"\n",
"Contributing and copyright\n",
"--------------------------\n",
"\n",
"The project is hosted on [GitHub][gh] where you can [report issues][issues], fork \n",
"the project and submit pull requests. If you\u0027re adding a new public API, please also \n",
"consider adding [samples][content] that can be turned into a documentation. You might\n",
"also want to read the [library design notes][readme] to understand how it works.\n",
"\n",
"The library is available under Apache 2.0 license, which allows modification and \n",
"redistribution for both commercial and non-commercial purposes. For more information see the \n",
"[License file][license] in the GitHub repository. \n",
"\n",
"  [content]: https://github.com/fsprojects/FSharp.Control.AsyncSeq/tree/master/docs/content\n",
"  [gh]: https://github.com/fsprojects/FSharp.Control.AsyncSeq\n",
"  [issues]: https://github.com/fsprojects/FSharp.Control.AsyncSeq/issues\n",
"  [readme]: https://github.com/fsprojects/FSharp.Control.AsyncSeq/blob/master/README.md\n",
"  [license]: https://github.com/fsprojects/FSharp.Control.AsyncSeq/blob/master/LICENSE.txt\n",
"\n"]
          }],
            "metadata": {
            "kernelspec": {"display_name": ".NET (F#)", "language": "F#", "name": ".net-fsharp"},
            "langauge_info": {
        "file_extension": ".fs",
        "mimetype": "text/x-fsharp",
        "name": "C#",
        "pygments_lexer": "fsharp",
        "version": "4.5"
        }
        },
            "nbformat": 4,
            "nbformat_minor": 1
        }
        

